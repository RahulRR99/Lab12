{
 "cells": [
  {
   "cell_type": "code",
   "execution_count": 1,
   "metadata": {},
   "outputs": [],
   "source": [
    "import numpy as np\n"
   ]
  },
  {
   "cell_type": "code",
   "execution_count": 1,
   "metadata": {},
   "outputs": [
    {
     "name": "stdout",
     "output_type": "stream",
     "text": [
      "============================================================================================================================\n"
     ]
    },
    {
     "ename": "NameError",
     "evalue": "name 'np' is not defined",
     "output_type": "error",
     "traceback": [
      "\u001b[1;31m---------------------------------------------------------------------------\u001b[0m",
      "\u001b[1;31mNameError\u001b[0m                                 Traceback (most recent call last)",
      "\u001b[1;32m<ipython-input-1-b68eb01842d4>\u001b[0m in \u001b[0;36m<module>\u001b[1;34m\u001b[0m\n\u001b[0;32m      1\u001b[0m \u001b[0mprint\u001b[0m\u001b[1;33m(\u001b[0m\u001b[1;34m\"============================================================================================================================\"\u001b[0m\u001b[1;33m)\u001b[0m\u001b[1;33m\u001b[0m\u001b[1;33m\u001b[0m\u001b[0m\n\u001b[1;32m----> 2\u001b[1;33m \u001b[0mmess\u001b[0m\u001b[1;33m=\u001b[0m\u001b[0mnp\u001b[0m\u001b[1;33m.\u001b[0m\u001b[0mchar\u001b[0m\u001b[1;33m.\u001b[0m\u001b[0mcenter\u001b[0m\u001b[1;33m(\u001b[0m\u001b[1;34m\" RR Numpy Calculator \"\u001b[0m\u001b[1;33m,\u001b[0m\u001b[1;36m127\u001b[0m\u001b[1;33m,\u001b[0m\u001b[0mfillchar\u001b[0m\u001b[1;33m=\u001b[0m\u001b[1;34m\"*\"\u001b[0m\u001b[1;33m)\u001b[0m\u001b[1;33m\u001b[0m\u001b[1;33m\u001b[0m\u001b[0m\n\u001b[0m\u001b[0;32m      3\u001b[0m \u001b[0mprint\u001b[0m\u001b[1;33m(\u001b[0m\u001b[0mmess\u001b[0m\u001b[1;33m)\u001b[0m\u001b[1;33m\u001b[0m\u001b[1;33m\u001b[0m\u001b[0m\n\u001b[0;32m      4\u001b[0m \u001b[0mprint\u001b[0m\u001b[1;33m(\u001b[0m\u001b[1;34m\"============================================================================================================================\"\u001b[0m\u001b[1;33m)\u001b[0m\u001b[1;33m\u001b[0m\u001b[1;33m\u001b[0m\u001b[0m\n\u001b[0;32m      5\u001b[0m \u001b[0moperations\u001b[0m\u001b[1;33m=\u001b[0m\u001b[1;33m[\u001b[0m\u001b[1;34m'Addition'\u001b[0m\u001b[1;33m,\u001b[0m \u001b[1;34m\"Subtraction\"\u001b[0m \u001b[1;33m,\u001b[0m \u001b[1;34m\"Division\"\u001b[0m\u001b[1;33m,\u001b[0m \u001b[1;34m'Multiplication'\u001b[0m\u001b[1;33m,\u001b[0m\u001b[1;34m\"square\"\u001b[0m\u001b[1;33m,\u001b[0m\u001b[1;34m\"Average\"\u001b[0m\u001b[1;33m,\u001b[0m\u001b[1;34m\"Mean\"\u001b[0m\u001b[1;34m'Square root'\u001b[0m\u001b[1;33m,\u001b[0m\u001b[1;34m'log'\u001b[0m\u001b[1;33m,\u001b[0m\u001b[1;34m\"logbase 10\"\u001b[0m\u001b[1;33m,\u001b[0m\u001b[1;34m'Exponent'\u001b[0m\u001b[1;33m,\u001b[0m\u001b[1;34m'Sin'\u001b[0m\u001b[1;33m,\u001b[0m\u001b[1;34m'Cos'\u001b[0m\u001b[1;33m,\u001b[0m\u001b[1;34m'tan'\u001b[0m\u001b[1;33m,\u001b[0m\u001b[1;34m\"Cot\"\u001b[0m\u001b[1;33m,\u001b[0m\u001b[1;34m\"sec\"\u001b[0m\u001b[1;33m,\u001b[0m\u001b[1;34m\"Cosec\"\u001b[0m\u001b[1;33m]\u001b[0m\u001b[1;33m\u001b[0m\u001b[1;33m\u001b[0m\u001b[0m\n",
      "\u001b[1;31mNameError\u001b[0m: name 'np' is not defined"
     ]
    }
   ],
   "source": [
    "print(\"============================================================================================================================\")\n",
    "mess=np.char.center(\" RR Numpy Calculator \",127,fillchar=\"*\")\n",
    "print(mess)\n",
    "print(\"============================================================================================================================\")\n",
    "operations=['Addition', \"Subtraction\" , \"Division\", 'Multiplication',\"square\",\"Average\",\"Mean\"'Square root','log',\"logbase 10\",'Exponent','Sin','Cos','tan',\"Cot\",\"sec\",\"Cosec\"]\n",
    "for i in operations:\n",
    "    print(\"-\" ,i)\n",
    "user_input=input(\"Which operation do you want to perfom : \").title()\n",
    "if user_input==\"Addition\":\n",
    "        a=float(input(\"Enter value of Number 1 : \"))\n",
    "        b=float(input(\"Enter value of Number 2 : \"))\n",
    "        add=np.add(a,b)\n",
    "        print(\"Addition : \" , add.astype(np.int32))\n",
    "        \n",
    "elif user_input==\"Subtraction\":\n",
    "        a=float(input(\"Enter value of Number 1 : \"))\n",
    "        b=float(input(\"Enter value of Number 2 : \"))\n",
    "        Sub=np.subtract(a,b)\n",
    "        print(\"Subtraction : \",Sub.astype(np.int32))\n",
    "        \n",
    "elif user_input==\"Multiplication\":\n",
    "        a=float(input(\"Enter value of Number 1 : \"))\n",
    "        b=float(input(\"Enter value of Number 2 : \"))\n",
    "        mul=np.Multiply(a,b)\n",
    "        print(\"Multiplication : \",mul.astype(np.int32))\n",
    "\n",
    "elif user_input==\"Division\":\n",
    "        a=float(input(\"Enter value of Number 1 : \"))\n",
    "        b=float(input(\"Enter value of Number 2 : \"))\n",
    "        div=np.divide(a,b)\n",
    "        print(\"Division : \" ,div)\n",
    "        \n",
    "elif user_input==\"Average\":\n",
    "        a=float(input(\"Enter value of Number 1 : \"))\n",
    "        b=float(input(\"Enter value of Number 2 : \"))\n",
    "        av=np.average(a,b)\n",
    "        print(\"Average : \",av.astype(np.int32))\n",
    "        \n",
    "elif user_input==\"Mean\":\n",
    "        a=float(input(\"Enter value of Number 1 : \"))\n",
    "        b=float(input(\"Enter value of Number 2 : \"))\n",
    "        mean=np.mean(a,b)\n",
    "        print(\"Mean : \",mean.astype(np.int32))\n",
    "\n",
    "elif user_input==\"Square\":\n",
    "        a=float(input(\"Enter a Number  : \"))\n",
    "        sq=np.square(a)\n",
    "        print(\"Square : \" ,sq.astype(np.int32))\n",
    "\n",
    "elif user_input==\"Square Root\":\n",
    "        a=float(input(\"Enter value a Number : \"))\n",
    "        sqrt=np.sqrt(a)\n",
    "        print(\"Square Root : \" ,sqrt)\n",
    "\n",
    "elif user_input==\"Log\":\n",
    "        a=float(input(\"Enter a Number  : \"))\n",
    "        log=np.log(a)\n",
    "        print(\"LOg : \" ,log)\n",
    "        \n",
    "elif user_input==\"log base 10\":\n",
    "        a=float(input(\"Enter  a Number : \"))\n",
    "        log10=np.log10(a)\n",
    "        print(\"LOg base 10 : \" ,log10)\n",
    "        \n",
    "\n",
    "elif user_input==\"Exponent\":\n",
    "        a=float(input(\"Enter value of Number 1 : \"))\n",
    "        exponent=np.exp(a)\n",
    "        print(\"Exponent : \" ,exponent)\n",
    "        \n",
    "elif user_input=='Sin':\n",
    "    angle=float(input(\"Enter a angle: \"))\n",
    "    sin=np.sin(angle)\n",
    "    print(f\"{user_input}{angle} is {sin}\")\n",
    "    \n",
    "elif user_input=='Cos':\n",
    "    angle=float(input(\"Enter a angle: \"))\n",
    "    cos=np.cos(angle)\n",
    "    print(f\"{user_input}{angle} is {cos}\")\n",
    "    \n",
    "elif user_input=='Tan':\n",
    "    angle=float(input(\"Enter a angle: \"))\n",
    "    tan=np.tan(angle)\n",
    "    print(f\"{user_input}{angle} is {tan}\")\n",
    "    \n",
    "elif user_input=='Cosec':\n",
    "    angle=float(input(\"Enter a angle: \"))\n",
    "    cosec1=np.sin(angle)\n",
    "    cosec=1/cosec1\n",
    "    print(f\"{user_input}{angle} is {cosec}\")\n",
    "    \n",
    "    \n",
    "elif user_input=='Sec':\n",
    "    angle=float(input(\"Enter a angle: \"))\n",
    "    sec1=np.cos(angle,angle)\n",
    "    sec=1/cos\n",
    "    print(f\"{user_input}{angle} is {sec}\")\n",
    "    \n",
    "    \n",
    "elif user_input=='Cot':\n",
    "    angle=float(input(\"Enter a angle: \"))\n",
    "    tan=np.tan(angle)\n",
    "    cot=1/tan\n",
    "    print(f\"{user_input}{angle} is {cot}\")\n"
   ]
  },
  {
   "cell_type": "code",
   "execution_count": null,
   "metadata": {},
   "outputs": [],
   "source": []
  },
  {
   "cell_type": "code",
   "execution_count": null,
   "metadata": {},
   "outputs": [],
   "source": [
    "\n"
   ]
  },
  {
   "cell_type": "code",
   "execution_count": null,
   "metadata": {},
   "outputs": [],
   "source": []
  },
  {
   "cell_type": "code",
   "execution_count": null,
   "metadata": {},
   "outputs": [],
   "source": []
  },
  {
   "cell_type": "code",
   "execution_count": null,
   "metadata": {},
   "outputs": [],
   "source": []
  },
  {
   "cell_type": "code",
   "execution_count": null,
   "metadata": {},
   "outputs": [],
   "source": []
  }
 ],
 "metadata": {
  "kernelspec": {
   "display_name": "Python 3",
   "language": "python",
   "name": "python3"
  },
  "language_info": {
   "codemirror_mode": {
    "name": "ipython",
    "version": 3
   },
   "file_extension": ".py",
   "mimetype": "text/x-python",
   "name": "python",
   "nbconvert_exporter": "python",
   "pygments_lexer": "ipython3",
   "version": "3.7.3"
  }
 },
 "nbformat": 4,
 "nbformat_minor": 2
}
